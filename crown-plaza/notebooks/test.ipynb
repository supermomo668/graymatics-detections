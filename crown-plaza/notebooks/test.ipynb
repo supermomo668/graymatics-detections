{
 "cells": [
  {
   "cell_type": "code",
   "execution_count": null,
   "metadata": {},
   "outputs": [],
   "source": [
    "from autodistill_grounded_sam import GroundedSAM\n",
    "from autodistill.detection import CaptionOntology\n",
    "from autodistill_yolov8 import YOLOv8\n",
    "\n",
    "# define an ontology to map class names to our GroundingDINO prompt\n",
    "# the ontology dictionary has the format {caption: class}\n",
    "# where caption is the prompt sent to the base model, and class is the label that will\n",
    "# be saved for that caption in the generated annotations\n",
    "base_model = GroundedSAM(ontology=CaptionOntology({\"shipping container\": \"container\"}))\n",
    "\n",
    "# label all images in a folder called `context_images`\n",
    "base_model.label(\n",
    "  input_folder=\"./images\",\n",
    "  output_folder=\"./dataset\"\n",
    ")\n",
    "\n",
    "target_model = YOLOv8(\"yolov8n.pt\")\n",
    "target_model.train(\"./dataset/data.yaml\", epochs=200)\n",
    "\n",
    "# run inference on the new model\n",
    "pred = target_model.predict(\"./dataset/valid/your-image.jpg\", confidence=0.5)\n",
    "print(pred)\n",
    "\n",
    "# optional: upload your model to Roboflow for deployment\n",
    "from roboflow import Roboflow\n",
    "\n",
    "rf = Roboflow(api_key=\"API_KEY\")\n",
    "project = rf.workspace().project(\"PROJECT_ID\")\n",
    "project.version(DATASET_VERSION).deploy(model_type=\"yolov8\", model_path=f\"./runs/detect/train/\")"
   ]
  }
 ],
 "metadata": {
  "language_info": {
   "name": "python"
  },
  "orig_nbformat": 4
 },
 "nbformat": 4,
 "nbformat_minor": 2
}
