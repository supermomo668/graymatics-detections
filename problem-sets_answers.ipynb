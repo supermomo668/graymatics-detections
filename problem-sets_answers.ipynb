{
 "cells": [
  {
   "cell_type": "markdown",
   "metadata": {},
   "source": [
    "## Knapsack"
   ]
  },
  {
   "cell_type": "code",
   "execution_count": 60,
   "metadata": {},
   "outputs": [],
   "source": [
    "import numpy as np\n",
    "import json\n",
    "import re\n"
   ]
  },
  {
   "cell_type": "code",
   "execution_count": 102,
   "metadata": {},
   "outputs": [
    {
     "name": "stdout",
     "output_type": "stream",
     "text": [
      "{ name:'map', weight:9, value:150 };{ name:'compass', weight:13, value:35 };{ name:'water', weight:153, value:200 };{ name:'sandwich', weight:50, value:160 };{ name:'glucose', weight:15, value:60 };{ name:'tin', weight:68, value:45 };{ name:'banana', weight:27, value:60 };{ name:'apple', weight:39, value:40 }\n",
      "[9, 13, 153, 50, 15, 68, 27, 39] [150, 35, 200, 160, 60, 45, 60, 40]\n"
     ]
    }
   ],
   "source": [
    "test_case_1 = \"\"\"\n",
    "knapsack([{ name:'map', weight:9, value:150 }, { name:'compass', weight:13, value:35 }, { name:'water', weight:153, value:200 }, { name:'sandwich', weight:50, value:160 }, { name:'glucose', weight:15, value:60 }, { name:'tin', weight:68, value:45 }, { name:'banana', weight:27, value:60 }, { name:'apple', weight:39, value:40 }], 100) should return 405.\n",
    "\n",
    "knapsack([{ name:'map', weight:9, value:150 }, { name:'compass', weight:13, value:35 }, { name:'water', weight:153, value:200 }, { name:'sandwich', weight:50, value:160 }, { name:'glucose', weight:15, value:60 }, { name:'tin', weight:68, value:45 }, { name:'banana', weight:27, value:60 }, { name:'apple', weight:39, value:40 }], 200) should return 510.\n",
    "\n",
    "knapsack([{ name:'cheese', weight:23, value:30 }, { name:'beer', weight:52, value:10 }, { name:'suntan cream', weight:11, value:70 }, { name:'camera', weight:32, value:30 }, { name:'T-shirt', weight:24, value:15 }, { name:'trousers', weight:48, value:10 }, { name:'umbrella', weight:73, value:40 }], 100) should return 145.\n",
    "\n",
    "knapsack([{ name:'cheese', weight:23, value:30 }, { name:'beer', weight:52, value:10 }, { name:'suntan cream', weight:11, value:70 }, { name:'camera', weight:32, value:30 }, { name:'T-shirt', weight:24, value:15 }, { name:'trousers', weight:48, value:10 }, { name:'umbrella', weight:73, value:40 }], 200) should return 185.\n",
    "\n",
    "knapsack([{ name:'waterproof trousers', weight:42, value:70 }, { name:'waterproof overclothes', weight:43, value:75 }, { name:'note-case', weight:22, value:80 }, { name:'sunglasses', weight:7, value:20 }, { name:'towel', weight:18, value:12 }, { name:'socks', weight:4, value:50 }, { name:'book', weight:30, value:10 }], 100) should return 237.\n",
    "\n",
    "knapsack([{ name:'waterproof trousers', weight:42, value:70 }, { name:'waterproof overclothes', weight:43, value:75 }, { name:'note-case', weight:22, value:80 }, { name:'sunglasses', weight:7, value:20 }, { name:'towel', weight:18, value:12 }, { name:'socks', weight:4, value:50 }, { name:'book', weight:30, value:10 }], 200) should return 317.' \n",
    "\"\"\"\n",
    "test_case = list(map(lambda s: s.split('],')[0],\n",
    "    test_case_1.replace('”', '\"').replace('\\n','').replace('knapsack([','').replace('}, {','};{').split('should return')\n",
    "))[0]\n",
    "print(test_case) \n",
    "wts = list(map(lambda s: int(s.split(',')[0]), test_case.split('weight:')[1:]))\n",
    "vals = list(map(lambda s: int(s.split(' }')[0]), test_case.split('value:')[1:]))\n",
    "w_lim = 100\n",
    "print(wts, vals)"
   ]
  },
  {
   "cell_type": "code",
   "execution_count": 103,
   "metadata": {},
   "outputs": [
    {
     "name": "stdout",
     "output_type": "stream",
     "text": [
      "405.0\n"
     ]
    }
   ],
   "source": [
    "def knapsack(vals, wts, W_lim):\n",
    "    # record value in DP table\n",
    "    assert len(wts) == len(vals) , \"len must equal\"\n",
    "    n = len(wts)\n",
    "    dp = np.zeros((n+1, W_lim+1))\n",
    "    for i in range(1, n+1): # iterate number of items\n",
    "        for j in range(1, W_lim+1):  # iterate weight  \n",
    "            if wts[i-1] <= j: \n",
    "                # ensure that there is a value that object can be added from\n",
    "                dp[i][j] = max(\n",
    "                    dp[i-1][j],  # value without the item\n",
    "                    dp[i-1][j-wts[i-1]] + vals[i-1]  # value with the new object\n",
    "                )\n",
    "            else:\n",
    "                dp[i][j] =  dp[i-1][j]\n",
    "            # print(dp[i][j])\n",
    "    return dp[len(vals)][W_lim]\n",
    "\n",
    "\n",
    "print(knapsack(vals, wts, w_lim))"
   ]
  },
  {
   "cell_type": "markdown",
   "metadata": {},
   "source": [
    "## string brackets"
   ]
  },
  {
   "cell_type": "code",
   "execution_count": 74,
   "metadata": {},
   "outputs": [
    {
     "data": {
      "text/plain": [
       "True"
      ]
     },
     "execution_count": 74,
     "metadata": {},
     "output_type": "execute_result"
    }
   ],
   "source": [
    "def validate_string_brackets(s):\n",
    "  vocab = {\n",
    "    \"{\":\"}\",\n",
    "    \"(\":\")\",\n",
    "    \"[\":\"]\"\n",
    "  }\n",
    "  vocab_rev = {v:k for k,v in vocab.items()}\n",
    "  queue = []\n",
    "  for c in s:\n",
    "    if c in vocab:\n",
    "      queue.append(c)\n",
    "    else:\n",
    "      if c in vocab_rev:\n",
    "        if len(queue) != 0 and queue[-1] == vocab_rev[c]:\n",
    "          queue.pop(-1)\n",
    "        else: return False\n",
    "      elif c == \" \":\n",
    "        continue\n",
    "      else: return False\n",
    "  return True\n",
    "\n",
    "test_case_2 = '( ) [ ] { } '\n",
    "test_case_2b = '( [ ) ]'\n",
    "test_case_2c = '{ [ ( ) ] }'\n",
    "validate_string_brackets(test_case_2c)"
   ]
  },
  {
   "cell_type": "markdown",
   "metadata": {},
   "source": [
    "## Video Editing "
   ]
  },
  {
   "cell_type": "code",
   "execution_count": 75,
   "metadata": {},
   "outputs": [],
   "source": [
    "import cv2"
   ]
  },
  {
   "cell_type": "code",
   "execution_count": 86,
   "metadata": {},
   "outputs": [
    {
     "name": "stdout",
     "output_type": "stream",
     "text": [
      "Frameshape:(360, 640, 3)\n",
      "Duration:101.88\n",
      "FPS:25.0\n"
     ]
    },
    {
     "data": {
      "text/plain": [
       "'test_video_t30-35s.avi'"
      ]
     },
     "execution_count": 86,
     "metadata": {},
     "output_type": "execute_result"
    }
   ],
   "source": [
    "def add_red_box(frame, ori=(0, 0), size=(100, 100)):\n",
    "  \"\"\"ori: (x, y) {width, height}\"\"\"\n",
    "  cv2.rectangle(frame, ori, (ori[0]+size[0], ori[1]+size[1]), (255,0,0), 5)\n",
    "  return frame\n",
    "\n",
    "def edit_video(vid_fp, t_frame = (30, 35), box_size=(100, 100)):\n",
    "  cap = cv2.VideoCapture(vid_fp)\n",
    "  ret, frame = cap.read()\n",
    "  h, w, _ = frame.shape\n",
    "  print(f\"Frameshape:{frame.shape}\")\n",
    "  #\n",
    "  fps, frame_count = cap.get(cv2.CAP_PROP_FPS), int(cap.get(cv2.CAP_PROP_FRAME_COUNT))      # \n",
    "  duration = frame_count/fps\n",
    "  print(f\"Duration:{duration}\\nFPS:{fps}\")\n",
    "  # Write /clip vieo\n",
    "  fourcc = cv2.VideoWriter_fourcc(*\"XVID\")\n",
    "  out_fp = f\"{vid_fp.split('.')[0]}_t{t_frame[0]}-{t_frame[1]}s_edited.avi\"\n",
    "  writer = cv2.VideoWriter(f\"{out_fp}\", fourcc, fps, (w, h))\n",
    "  f = 0\n",
    "  while ret:\n",
    "    f += 1\n",
    "    if t_frame[0]*fps <= f <= t_frame[1]*fps:\n",
    "      frame = add_red_box(frame, ori=(w//2-box_size[0]//2, h//2-box_size[1]//2))\n",
    "      writer.write(frame)\n",
    "    ret, frame = cap.read()\n",
    "  writer.release()\n",
    "  return out_fp\n",
    "\n",
    "file = \"test_video.mp4\"\n",
    "\n",
    "edit_video(file, t_frame=(30,35))"
   ]
  },
  {
   "cell_type": "code",
   "execution_count": null,
   "metadata": {},
   "outputs": [],
   "source": []
  }
 ],
 "metadata": {
  "kernelspec": {
   "display_name": "base",
   "language": "python",
   "name": "python3"
  },
  "language_info": {
   "codemirror_mode": {
    "name": "ipython",
    "version": 3
   },
   "file_extension": ".py",
   "mimetype": "text/x-python",
   "name": "python",
   "nbconvert_exporter": "python",
   "pygments_lexer": "ipython3",
   "version": "3.10.9"
  },
  "orig_nbformat": 4
 },
 "nbformat": 4,
 "nbformat_minor": 2
}
